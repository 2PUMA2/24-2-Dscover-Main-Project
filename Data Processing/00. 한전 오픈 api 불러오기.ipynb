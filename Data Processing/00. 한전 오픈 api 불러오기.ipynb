{
 "cells": [
  {
   "cell_type": "code",
   "execution_count": 1,
   "id": "0d516a45",
   "metadata": {},
   "outputs": [],
   "source": [
    "import requests\n",
    "import json\n",
    "import pandas as pd"
   ]
  },
  {
   "cell_type": "markdown",
   "id": "6da962c3",
   "metadata": {},
   "source": [
    "# 오픈 api 데이터 불러오기\n",
    "### (한국전력공사_전기차 충전소 사용량)"
   ]
  },
  {
   "cell_type": "code",
   "execution_count": 4,
   "id": "2e7a44a9",
   "metadata": {},
   "outputs": [
    {
     "name": "stdout",
     "output_type": "stream",
     "text": [
      "Total data collected: 1048575\n"
     ]
    },
    {
     "ename": "NameError",
     "evalue": "name 'pd' is not defined",
     "output_type": "error",
     "traceback": [
      "\u001b[1;31m---------------------------------------------------------------------------\u001b[0m",
      "\u001b[1;31mNameError\u001b[0m                                 Traceback (most recent call last)",
      "Input \u001b[1;32mIn [4]\u001b[0m, in \u001b[0;36m<cell line: 35>\u001b[1;34m()\u001b[0m\n\u001b[0;32m     32\u001b[0m \u001b[38;5;28mprint\u001b[39m(\u001b[38;5;124m\"\u001b[39m\u001b[38;5;124mTotal data collected:\u001b[39m\u001b[38;5;124m\"\u001b[39m, \u001b[38;5;28mlen\u001b[39m(df))\n\u001b[0;32m     34\u001b[0m \u001b[38;5;66;03m#데이터 프레임으로 변경\u001b[39;00m\n\u001b[1;32m---> 35\u001b[0m df \u001b[38;5;241m=\u001b[39m \u001b[43mpd\u001b[49m\u001b[38;5;241m.\u001b[39mDataFrame(df)\n\u001b[0;32m     37\u001b[0m \u001b[38;5;66;03m# 날짜 데이터로 변형\u001b[39;00m\n\u001b[0;32m     38\u001b[0m df[\u001b[38;5;124m'\u001b[39m\u001b[38;5;124m충전시작시각\u001b[39m\u001b[38;5;124m'\u001b[39m] \u001b[38;5;241m=\u001b[39m pd\u001b[38;5;241m.\u001b[39mto_datetime(df[\u001b[38;5;124m'\u001b[39m\u001b[38;5;124m충전시작시각\u001b[39m\u001b[38;5;124m'\u001b[39m])\n",
      "\u001b[1;31mNameError\u001b[0m: name 'pd' is not defined"
     ]
    }
   ],
   "source": [
    "#20210330\n",
    "\n",
    "\n",
    "url = 'https://api.odcloud.kr/api/15102510/v1/uddi:e284ffd3-014d-46f0-a053-80520565b0c7'\n",
    "\n",
    "\n",
    "response = requests.get(url, params = {'page': 1, 'perPage' :10, 'serviceKey' : 'WmCxAJWCc2WN2nK6SYuNAaA9pKww7EMPQH6oDvwteCkFc586fAamWKjlBNRlxQop5SHIcJITs0OD3i7CYeaXpw=='})\n",
    "# 총 데이터 개수 확인\n",
    "total_count = response.json().get('totalCount', 0)  \n",
    "# 총 페이지 설정\n",
    "total_pages = (total_count // 1000) + (1 if total_count % 1000 != 0 else 0) \n",
    "\n",
    "df = []\n",
    "\n",
    "for i in range(1, total_pages + 1):\n",
    "    \n",
    "    params = {\n",
    "        'page': i,\n",
    "        'perPage' :1000,\n",
    "        'serviceKey' : 'WmCxAJWCc2WN2nK6SYuNAaA9pKww7EMPQH6oDvwteCkFc586fAamWKjlBNRlxQop5SHIcJITs0OD3i7CYeaXpw=='\n",
    "        #'serviceKey' : 'WmCxAJWCc2WN2nK6SYuNAaA9pKww7EMPQH6oDvwteCkFc586fAamWKjlBNRlxQop5SHIcJITs0OD3i7CYeaXpw%3D%3D'\n",
    "    }\n",
    "    \n",
    "    response = requests.get(url, params = params)\n",
    "    data = response.json().get('data', [])\n",
    "    if not data:\n",
    "        break\n",
    "    df.extend(data)\n",
    "    \n",
    "\n",
    "#데이터 사이즈    \n",
    "print(\"Total data collected:\", len(df))\n",
    "\n",
    "#데이터 프레임으로 변경\n",
    "df = pd.DataFrame(df)\n",
    "\n",
    "# 날짜 데이터로 변형\n",
    "df['충전시작시각'] = pd.to_datetime(df['충전시작시각'])\n",
    "df['충전시작시각'] = pd.to_datetime(df['충전종료시각'])\n",
    "df['충전시작시각'] = pd.to_datetime(df['충전종료일자'])\n",
    "\n",
    "# 데이터 기간 확인\n",
    "print(\"\\n[데이터 기간 확인]\")\n",
    "print(df['충전시작시각'].max())\n",
    "print(df['충전시작시각'].min())\n"
   ]
  },
  {
   "cell_type": "code",
   "execution_count": 9,
   "id": "387e1940",
   "metadata": {},
   "outputs": [],
   "source": [
    "use_20220330 = df\n",
    "use_20220330.to_csv(\"한국전력공사_전기차 충전소 충전량_20220330.csv\", index=False)"
   ]
  },
  {
   "cell_type": "code",
   "execution_count": 16,
   "id": "3fb9634b",
   "metadata": {},
   "outputs": [
    {
     "name": "stdout",
     "output_type": "stream",
     "text": [
      "Total data collected: 1048575\n",
      "\n",
      "[데이터 기간 확인]\n",
      "2021-10-17 00:00:00\n",
      "2021-07-01 00:00:00\n"
     ]
    }
   ],
   "source": [
    "#20211231\n",
    "\n",
    "\n",
    "url = 'https://api.odcloud.kr/api/15102510/v1/uddi:19e0a25c-e4e3-44c1-b819-f5ad9f0513e6'\n",
    "\n",
    "\n",
    "response = requests.get(url, params = {'page': 1, 'perPage' :10, 'serviceKey' : 'WmCxAJWCc2WN2nK6SYuNAaA9pKww7EMPQH6oDvwteCkFc586fAamWKjlBNRlxQop5SHIcJITs0OD3i7CYeaXpw=='})\n",
    "# 총 데이터 개수 확인\n",
    "total_count = response.json().get('totalCount', 0)  \n",
    "# 총 페이지 설정\n",
    "total_pages = (total_count // 1000) + (1 if total_count % 1000 != 0 else 0) \n",
    "\n",
    "df = []\n",
    "\n",
    "for i in range(1, total_pages + 1):\n",
    "    \n",
    "    params = {\n",
    "        'page': i,\n",
    "        'perPage' :1000,\n",
    "        'serviceKey' : 'WmCxAJWCc2WN2nK6SYuNAaA9pKww7EMPQH6oDvwteCkFc586fAamWKjlBNRlxQop5SHIcJITs0OD3i7CYeaXpw=='\n",
    "        #'serviceKey' : 'WmCxAJWCc2WN2nK6SYuNAaA9pKww7EMPQH6oDvwteCkFc586fAamWKjlBNRlxQop5SHIcJITs0OD3i7CYeaXpw%3D%3D'\n",
    "    }\n",
    "    \n",
    "    response = requests.get(url, params = params)\n",
    "    data = response.json().get('data', [])\n",
    "    if not data:\n",
    "        break\n",
    "    df.extend(data)\n",
    "    \n",
    "\n",
    "#데이터 사이즈    \n",
    "print(\"Total data collected:\", len(df))\n",
    "\n",
    "#데이터 프레임으로 변경\n",
    "df = pd.DataFrame(df)\n",
    "\n",
    "# 날짜 데이터로 변형\n",
    "df['충전시작시각'] = pd.to_datetime(df['충전시작시각'])\n",
    "df['충전시작시각'] = pd.to_datetime(df['충전종료시각'])\n",
    "df['충전시작시각'] = pd.to_datetime(df['충전종료일자'])\n",
    "\n",
    "# 데이터 기간 확인\n",
    "print(\"\\n[데이터 기간 확인]\")\n",
    "print(df['충전시작시각'].max())\n",
    "print(df['충전시작시각'].min())\n"
   ]
  },
  {
   "cell_type": "code",
   "execution_count": 17,
   "id": "78251da4",
   "metadata": {},
   "outputs": [],
   "source": [
    "use_20211231 = df\n",
    "use_20211231.to_csv(\"한국전력공사_전기차 충전소 충전량_20211231.csv\", index=False)"
   ]
  },
  {
   "cell_type": "code",
   "execution_count": 12,
   "id": "906e64bc",
   "metadata": {},
   "outputs": [
    {
     "name": "stdout",
     "output_type": "stream",
     "text": [
      "Total data collected: 1048575\n",
      "\n",
      "[데이터 기간 확인]\n",
      "2021-05-15 00:00:00\n",
      "2021-01-01 00:00:00\n"
     ]
    }
   ],
   "source": [
    "#20210630\n",
    "\n",
    "\n",
    "url = 'https://api.odcloud.kr/api/15102510/v1/uddi:04cd3b98-7f8b-4810-b67a-d61eb94ab057'\n",
    "\n",
    "\n",
    "response = requests.get(url, params = {'page': 1, 'perPage' :10, 'serviceKey' : 'WmCxAJWCc2WN2nK6SYuNAaA9pKww7EMPQH6oDvwteCkFc586fAamWKjlBNRlxQop5SHIcJITs0OD3i7CYeaXpw=='})\n",
    "# 총 데이터 개수 확인\n",
    "total_count = response.json().get('totalCount', 0)  \n",
    "# 총 페이지 설정\n",
    "total_pages = (total_count // 1000) + (1 if total_count % 1000 != 0 else 0) \n",
    "\n",
    "df = []\n",
    "\n",
    "for i in range(1, total_pages + 1):\n",
    "    \n",
    "    params = {\n",
    "        'page': i,\n",
    "        'perPage' :1000,\n",
    "        'serviceKey' : 'WmCxAJWCc2WN2nK6SYuNAaA9pKww7EMPQH6oDvwteCkFc586fAamWKjlBNRlxQop5SHIcJITs0OD3i7CYeaXpw=='\n",
    "        #'serviceKey' : 'WmCxAJWCc2WN2nK6SYuNAaA9pKww7EMPQH6oDvwteCkFc586fAamWKjlBNRlxQop5SHIcJITs0OD3i7CYeaXpw%3D%3D'\n",
    "    }\n",
    "    \n",
    "    response = requests.get(url, params = params)\n",
    "    data = response.json().get('data', [])\n",
    "    if not data:\n",
    "        break\n",
    "    df.extend(data)\n",
    "    \n",
    "    \n",
    "\n",
    "#데이터 사이즈    \n",
    "print(\"Total data collected:\", len(df))\n",
    "\n",
    "#데이터 프레임으로 변경\n",
    "df = pd.DataFrame(df)\n",
    "\n",
    "# 날짜 데이터로 변형\n",
    "df['충전시작시각'] = pd.to_datetime(df['충전시작시각'])\n",
    "df['충전시작시각'] = pd.to_datetime(df['충전종료시각'])\n",
    "df['충전시작시각'] = pd.to_datetime(df['충전종료일자'])\n",
    "\n",
    "# 데이터 기간 확인\n",
    "print(\"\\n[데이터 기간 확인]\")\n",
    "print(df['충전시작시각'].max())\n",
    "print(df['충전시작시각'].min())\n"
   ]
  },
  {
   "cell_type": "code",
   "execution_count": 15,
   "id": "f76f8045",
   "metadata": {},
   "outputs": [],
   "source": [
    "use_20210630 = df\n",
    "use_20210630.to_csv(\"한국전력공사_전기차 충전소 충전량_20210630.csv\", index=False)"
   ]
  },
  {
   "cell_type": "markdown",
   "id": "db157cf0",
   "metadata": {},
   "source": [
    "### 환경부 전기차 충전소 충전량 정보"
   ]
  },
  {
   "cell_type": "code",
   "execution_count": 4,
   "id": "b422beec",
   "metadata": {},
   "outputs": [
    {
     "name": "stdout",
     "output_type": "stream",
     "text": [
      "Total data collected: 7984\n"
     ]
    }
   ],
   "source": [
    "\n",
    "\n",
    "\n",
    "url = 'https://api.odcloud.kr/api/15126611/v1/uddi:87625d48-82e1-4a00-9273-819b5f79878e'\n",
    "\n",
    "\n",
    "response = requests.get(url, params = {'page': 1, 'perPage' :10, 'serviceKey' : 'WmCxAJWCc2WN2nK6SYuNAaA9pKww7EMPQH6oDvwteCkFc586fAamWKjlBNRlxQop5SHIcJITs0OD3i7CYeaXpw=='})\n",
    "# 총 데이터 개수 확인\n",
    "total_count = response.json().get('totalCount', 0)  \n",
    "# 총 페이지 설정\n",
    "total_pages = (total_count // 1000) + (1 if total_count % 1000 != 0 else 0) \n",
    "\n",
    "df = []\n",
    "\n",
    "for i in range(1, total_pages + 1):\n",
    "    \n",
    "    params = {\n",
    "        'page': i,\n",
    "        'perPage' :1000,\n",
    "        'serviceKey' : 'WmCxAJWCc2WN2nK6SYuNAaA9pKww7EMPQH6oDvwteCkFc586fAamWKjlBNRlxQop5SHIcJITs0OD3i7CYeaXpw=='\n",
    "\n",
    "    }\n",
    "    \n",
    "    response = requests.get(url, params = params)\n",
    "    data = response.json().get('data', [])\n",
    "    if not data:\n",
    "        break\n",
    "    df.extend(data)\n",
    "    \n",
    "    \n",
    "\n",
    "#데이터 사이즈    \n",
    "print(\"Total data collected:\", len(df))\n",
    "\n",
    "#데이터 프레임으로 변경\n",
    "df = pd.DataFrame(df)\n",
    "\n"
   ]
  },
  {
   "cell_type": "code",
   "execution_count": 6,
   "id": "dd3f6479",
   "metadata": {},
   "outputs": [],
   "source": [
    "df.to_csv(\"한국환경공단_환경부 전기차 충전소 충전량(상세정보_분류포함).csv\", index=False)"
   ]
  },
  {
   "cell_type": "code",
   "execution_count": null,
   "id": "833d3ed9",
   "metadata": {},
   "outputs": [],
   "source": [
    "\n",
    "\n",
    "\n",
    "url = 'https://api.odcloud.kr/api/15126611/v1/uddi:87625d48-82e1-4a00-9273-819b5f79878e'\n",
    "\n",
    "\n",
    "response = requests.get(url, params = {'page': 1, 'perPage' :10, 'serviceKey' : 'WmCxAJWCc2WN2nK6SYuNAaA9pKww7EMPQH6oDvwteCkFc586fAamWKjlBNRlxQop5SHIcJITs0OD3i7CYeaXpw=='})\n",
    "# 총 데이터 개수 확인\n",
    "total_count = response.json().get('totalCount', 0)  \n",
    "# 총 페이지 설정\n",
    "total_pages = (total_count // 1000) + (1 if total_count % 1000 != 0 else 0) \n",
    "\n",
    "df = []\n",
    "\n",
    "for i in range(1, total_pages + 1):\n",
    "    \n",
    "    params = {\n",
    "        'page': i,\n",
    "        'perPage' :1000,\n",
    "        'serviceKey' : 'WmCxAJWCc2WN2nK6SYuNAaA9pKww7EMPQH6oDvwteCkFc586fAamWKjlBNRlxQop5SHIcJITs0OD3i7CYeaXpw=='\n",
    "\n",
    "    }\n",
    "    \n",
    "    response = requests.get(url, params = params)\n",
    "    data = response.json().get('data', [])\n",
    "    if not data:\n",
    "        break\n",
    "    df.extend(data)\n",
    "    \n",
    "    \n",
    "\n",
    "#데이터 사이즈    \n",
    "print(\"Total data collected:\", len(df))\n",
    "\n",
    "#데이터 프레임으로 변경\n",
    "df = pd.DataFrame(df)\n",
    "\n"
   ]
  }
 ],
 "metadata": {
  "kernelspec": {
   "display_name": "Python 3 (ipykernel)",
   "language": "python",
   "name": "python3"
  },
  "language_info": {
   "codemirror_mode": {
    "name": "ipython",
    "version": 3
   },
   "file_extension": ".py",
   "mimetype": "text/x-python",
   "name": "python",
   "nbconvert_exporter": "python",
   "pygments_lexer": "ipython3",
   "version": "3.9.12"
  }
 },
 "nbformat": 4,
 "nbformat_minor": 5
}
